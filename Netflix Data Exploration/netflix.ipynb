{
 "cells": [
  {
   "cell_type": "markdown",
   "id": "937acf3c-c077-4ca6-8d90-8f6dd4d13c54",
   "metadata": {},
   "source": [
    "<center><img src=\"redpopcorn.jpg\"></center>"
   ]
  },
  {
   "cell_type": "markdown",
   "id": "5962b2cd-17bb-4ec9-b2d5-68537ca26860",
   "metadata": {},
   "source": [
    "**Netflix**! What started in 1997 as a DVD rental service has since exploded into one of the largest entertainment and media companies.\n",
    "\n",
    "Given the large number of movies and series available on the platform, it is a perfect opportunity to flex your exploratory data analysis skills and dive into the entertainment industry.\n",
    "\n",
    "You work for a production company that specializes in nostalgic styles. You want to do some research on movies released in the 1990's. You'll delve into Netflix data and perform exploratory data analysis to better understand this awesome movie decade!\n",
    "\n",
    "You have been supplied with the dataset `netflix_data.csv`, along with the following table detailing the column names and descriptions. Feel free to experiment further after submitting!\n",
    "\n",
    "## The data\n",
    "### **netflix_data.csv**\n",
    "| Column | Description |\n",
    "|--------|-------------|\n",
    "| `show_id` | The ID of the show |\n",
    "| `type` | Type of show |\n",
    "| `title` | Title of the show |\n",
    "| `director` | Director of the show |\n",
    "| `cast` | Cast of the show |\n",
    "| `country` | Country of origin |\n",
    "| `date_added` | Date added to Netflix |\n",
    "| `release_year` | Year of Netflix release |\n",
    "| `duration` | Duration of the show in minutes |\n",
    "| `description` | Description of the show |\n",
    "| `genre` | Show genre |"
   ]
  },
  {
   "cell_type": "code",
   "execution_count": 5,
   "id": "320a3abc-8a36-4b2b-baaf-473325363a4d",
   "metadata": {
    "executionCancelledAt": null,
    "executionTime": 38,
    "lastExecutedAt": 1737264624565,
    "lastExecutedByKernel": "da71bf07-43bb-4369-baee-34164bd0bf7a",
    "lastScheduledRunId": null,
    "lastSuccessfullyExecutedCode": "# Importing pandas and matplotlib\nimport pandas as pd\nimport matplotlib.pyplot as plt\nimport numpy as np\n\n# Read in the Netflix CSV as a DataFrame\nnetflix_df = pd.read_csv(\"netflix_data.csv\")"
   },
   "outputs": [],
   "source": [
    "# Importing pandas and matplotlib\n",
    "import pandas as pd\n",
    "import matplotlib.pyplot as plt\n",
    "import numpy as np\n",
    "\n",
    "# Read in the Netflix CSV as a DataFrame\n",
    "netflix_df = pd.read_csv(\"netflix_data.csv\")"
   ]
  },
  {
   "cell_type": "code",
   "execution_count": 72,
   "id": "72658473-114f-49eb-bd4e-cc03c710834a",
   "metadata": {
    "executionCancelledAt": null,
    "executionTime": 48,
    "lastExecutedAt": 1737264624613,
    "lastExecutedByKernel": "da71bf07-43bb-4369-baee-34164bd0bf7a",
    "lastScheduledRunId": null,
    "lastSuccessfullyExecutedCode": "# Start coding here! Use as many cells as you like"
   },
   "outputs": [],
   "source": [
    "# Start coding here! Use as many cells as you like"
   ]
  },
  {
   "cell_type": "code",
   "execution_count": 6,
   "id": "f1bac506-6481-4992-879a-5fea91ae2e71",
   "metadata": {
    "executionCancelledAt": null,
    "executionTime": 48,
    "lastExecutedAt": 1737264624661,
    "lastExecutedByKernel": "da71bf07-43bb-4369-baee-34164bd0bf7a",
    "lastScheduledRunId": null,
    "lastSuccessfullyExecutedCode": "nineties_duration = netflix_df[np.logical_and(netflix_df.release_year>=1990, netflix_df.release_year<2000, netflix_df.type==\"Movie\")]",
    "outputsMetadata": {
     "0": {
      "height": 82,
      "tableState": {
       "quickFilterText": ""
      },
      "type": "dataFrame"
     }
    }
   },
   "outputs": [],
   "source": [
    "nineties_duration = netflix_df[np.logical_and(netflix_df.release_year>=1990, netflix_df.release_year<2000, netflix_df.type==\"Movie\")]"
   ]
  },
  {
   "cell_type": "code",
   "execution_count": 7,
   "id": "4e0ffe17-aa90-4390-bb26-dd6528519159",
   "metadata": {
    "executionCancelledAt": null,
    "executionTime": 48,
    "lastExecutedAt": 1737264624709,
    "lastExecutedByKernel": "da71bf07-43bb-4369-baee-34164bd0bf7a",
    "lastScheduledRunId": null,
    "lastSuccessfullyExecutedCode": "duration = int(nineties_duration['duration'].mode())",
    "outputsMetadata": {
     "0": {
      "height": 59,
      "type": "stream"
     }
    }
   },
   "outputs": [
    {
     "name": "stderr",
     "output_type": "stream",
     "text": [
      "/tmp/ipykernel_1340615/4195700477.py:1: FutureWarning: Calling int on a single element Series is deprecated and will raise a TypeError in the future. Use int(ser.iloc[0]) instead\n",
      "  duration = int(nineties_duration['duration'].mode())\n"
     ]
    }
   ],
   "source": [
    "duration = int(nineties_duration['duration'].mode())"
   ]
  },
  {
   "cell_type": "code",
   "execution_count": 8,
   "id": "5e16dcab-12ad-46b3-a61b-986ae7990366",
   "metadata": {
    "executionCancelledAt": null,
    "executionTime": 55,
    "lastExecutedAt": 1737264624765,
    "lastExecutedByKernel": "da71bf07-43bb-4369-baee-34164bd0bf7a",
    "lastScheduledRunId": null,
    "lastSuccessfullyExecutedCode": "nineties_genre = nineties_duration[nineties_duration.genre==\"Action\"]"
   },
   "outputs": [],
   "source": [
    "nineties_genre = nineties_duration[nineties_duration.genre==\"Action\"]"
   ]
  },
  {
   "cell_type": "code",
   "execution_count": 9,
   "id": "512f6a03-ba32-4812-9899-51e80b97dd29",
   "metadata": {
    "collapsed": true,
    "executionCancelledAt": null,
    "executionTime": 68,
    "jupyter": {
     "outputs_hidden": true,
     "source_hidden": false
    },
    "lastExecutedAt": 1737264624834,
    "lastExecutedByKernel": "da71bf07-43bb-4369-baee-34164bd0bf7a",
    "lastScheduledRunId": null,
    "lastSuccessfullyExecutedCode": "nineties_genre.head()",
    "outputsMetadata": {
     "0": {
      "height": 50,
      "tableState": {
       "customFilter": {
        "const": {
         "type": "boolean",
         "valid": true,
         "value": true
        },
        "id": "43a0f188-97eb-4f33-90bf-b1feb7fcd13a",
        "nodeType": "const"
       },
       "quickFilterText": ""
      },
      "type": "dataFrame"
     }
    }
   },
   "outputs": [
    {
     "data": {
      "text/html": [
       "<div>\n",
       "<style scoped>\n",
       "    .dataframe tbody tr th:only-of-type {\n",
       "        vertical-align: middle;\n",
       "    }\n",
       "\n",
       "    .dataframe tbody tr th {\n",
       "        vertical-align: top;\n",
       "    }\n",
       "\n",
       "    .dataframe thead th {\n",
       "        text-align: right;\n",
       "    }\n",
       "</style>\n",
       "<table border=\"1\" class=\"dataframe\">\n",
       "  <thead>\n",
       "    <tr style=\"text-align: right;\">\n",
       "      <th></th>\n",
       "      <th>show_id</th>\n",
       "      <th>type</th>\n",
       "      <th>title</th>\n",
       "      <th>director</th>\n",
       "      <th>cast</th>\n",
       "      <th>country</th>\n",
       "      <th>date_added</th>\n",
       "      <th>release_year</th>\n",
       "      <th>duration</th>\n",
       "      <th>description</th>\n",
       "      <th>genre</th>\n",
       "    </tr>\n",
       "  </thead>\n",
       "  <tbody>\n",
       "    <tr>\n",
       "      <th>352</th>\n",
       "      <td>s508</td>\n",
       "      <td>Movie</td>\n",
       "      <td>Andaz Apna Apna</td>\n",
       "      <td>Rajkumar Santoshi</td>\n",
       "      <td>Aamir Khan, Salman Khan, Raveena Tandon, Karis...</td>\n",
       "      <td>India</td>\n",
       "      <td>May 11, 2020</td>\n",
       "      <td>1994</td>\n",
       "      <td>160</td>\n",
       "      <td>Broke and with no concrete plans for the futur...</td>\n",
       "      <td>Action</td>\n",
       "    </tr>\n",
       "    <tr>\n",
       "      <th>431</th>\n",
       "      <td>s628</td>\n",
       "      <td>Movie</td>\n",
       "      <td>Austin Powers: The Spy Who Shagged Me</td>\n",
       "      <td>Jay Roach</td>\n",
       "      <td>Mike Myers, Heather Graham, Michael York, Robe...</td>\n",
       "      <td>United States</td>\n",
       "      <td>December 1, 2019</td>\n",
       "      <td>1999</td>\n",
       "      <td>95</td>\n",
       "      <td>When diabolical genius Dr. Evil travels back i...</td>\n",
       "      <td>Action</td>\n",
       "    </tr>\n",
       "    <tr>\n",
       "      <th>468</th>\n",
       "      <td>s688</td>\n",
       "      <td>Movie</td>\n",
       "      <td>Bad Boys</td>\n",
       "      <td>Michael Bay</td>\n",
       "      <td>Will Smith, Martin Lawrence, Téa Leoni, Tchéky...</td>\n",
       "      <td>United States</td>\n",
       "      <td>October 1, 2019</td>\n",
       "      <td>1995</td>\n",
       "      <td>119</td>\n",
       "      <td>In this fast-paced actioner, two Miami narcoti...</td>\n",
       "      <td>Action</td>\n",
       "    </tr>\n",
       "    <tr>\n",
       "      <th>515</th>\n",
       "      <td>s757</td>\n",
       "      <td>Movie</td>\n",
       "      <td>Barsaat</td>\n",
       "      <td>Rajkumar Santoshi</td>\n",
       "      <td>Twinkle Khanna, Bobby Deol, Danny Denzongpa, R...</td>\n",
       "      <td>India</td>\n",
       "      <td>April 1, 2018</td>\n",
       "      <td>1995</td>\n",
       "      <td>166</td>\n",
       "      <td>A naïve young man and a rich city girl fall in...</td>\n",
       "      <td>Action</td>\n",
       "    </tr>\n",
       "    <tr>\n",
       "      <th>675</th>\n",
       "      <td>s1003</td>\n",
       "      <td>Movie</td>\n",
       "      <td>Blue Streak</td>\n",
       "      <td>Les Mayfield</td>\n",
       "      <td>Martin Lawrence, Luke Wilson, Peter Greene, Da...</td>\n",
       "      <td>Germany</td>\n",
       "      <td>January 1, 2021</td>\n",
       "      <td>1999</td>\n",
       "      <td>94</td>\n",
       "      <td>A jewel thief returns to his hiding place afte...</td>\n",
       "      <td>Action</td>\n",
       "    </tr>\n",
       "  </tbody>\n",
       "</table>\n",
       "</div>"
      ],
      "text/plain": [
       "    show_id   type                                  title           director  \\\n",
       "352    s508  Movie                        Andaz Apna Apna  Rajkumar Santoshi   \n",
       "431    s628  Movie  Austin Powers: The Spy Who Shagged Me          Jay Roach   \n",
       "468    s688  Movie                               Bad Boys        Michael Bay   \n",
       "515    s757  Movie                                Barsaat  Rajkumar Santoshi   \n",
       "675   s1003  Movie                            Blue Streak       Les Mayfield   \n",
       "\n",
       "                                                  cast        country  \\\n",
       "352  Aamir Khan, Salman Khan, Raveena Tandon, Karis...          India   \n",
       "431  Mike Myers, Heather Graham, Michael York, Robe...  United States   \n",
       "468  Will Smith, Martin Lawrence, Téa Leoni, Tchéky...  United States   \n",
       "515  Twinkle Khanna, Bobby Deol, Danny Denzongpa, R...          India   \n",
       "675  Martin Lawrence, Luke Wilson, Peter Greene, Da...        Germany   \n",
       "\n",
       "           date_added  release_year  duration  \\\n",
       "352      May 11, 2020          1994       160   \n",
       "431  December 1, 2019          1999        95   \n",
       "468   October 1, 2019          1995       119   \n",
       "515     April 1, 2018          1995       166   \n",
       "675   January 1, 2021          1999        94   \n",
       "\n",
       "                                           description   genre  \n",
       "352  Broke and with no concrete plans for the futur...  Action  \n",
       "431  When diabolical genius Dr. Evil travels back i...  Action  \n",
       "468  In this fast-paced actioner, two Miami narcoti...  Action  \n",
       "515  A naïve young man and a rich city girl fall in...  Action  \n",
       "675  A jewel thief returns to his hiding place afte...  Action  "
      ]
     },
     "execution_count": 9,
     "metadata": {},
     "output_type": "execute_result"
    }
   ],
   "source": [
    "nineties_genre.head()"
   ]
  },
  {
   "cell_type": "code",
   "execution_count": 10,
   "id": "75b463a2-7c29-46b2-99c6-2e03fe8ada79",
   "metadata": {
    "collapsed": true,
    "executionCancelledAt": null,
    "executionTime": 55,
    "jupyter": {
     "outputs_hidden": true,
     "source_hidden": false
    },
    "lastExecutedAt": 1737264624889,
    "lastExecutedByKernel": "da71bf07-43bb-4369-baee-34164bd0bf7a",
    "lastScheduledRunId": null,
    "lastSuccessfullyExecutedCode": "short_movie_count = nineties_genre[nineties_genre.duration < 90].genre.count()",
    "outputsMetadata": {
     "0": {
      "height": 422,
      "tableState": {
       "customFilter": {
        "const": {
         "type": "boolean",
         "valid": true,
         "value": true
        },
        "id": "43a0f188-97eb-4f33-90bf-b1feb7fcd13a",
        "nodeType": "const"
       },
       "quickFilterText": ""
      },
      "type": "dataFrame"
     }
    }
   },
   "outputs": [],
   "source": [
    "short_movie_count = nineties_genre[nineties_genre.duration < 90].genre.count()"
   ]
  },
  {
   "cell_type": "code",
   "execution_count": 11,
   "id": "abc576c4-0d5e-4340-87c9-ca679423cdcd",
   "metadata": {
    "executionCancelledAt": null,
    "executionTime": 51,
    "lastExecutedAt": 1737264624941,
    "lastExecutedByKernel": "da71bf07-43bb-4369-baee-34164bd0bf7a",
    "lastScheduledRunId": null,
    "lastSuccessfullyExecutedCode": "short_movie_count",
    "outputsMetadata": {
     "0": {
      "height": 500,
      "tableState": {
       "quickFilterText": ""
      },
      "type": "dataFrame"
     }
    }
   },
   "outputs": [
    {
     "data": {
      "text/plain": [
       "7"
      ]
     },
     "execution_count": 11,
     "metadata": {},
     "output_type": "execute_result"
    }
   ],
   "source": [
    "short_movie_count"
   ]
  }
 ],
 "metadata": {
  "colab": {
   "name": "Welcome to DataCamp Workspaces.ipynb",
   "provenance": []
  },
  "editor": "DataLab",
  "kernelspec": {
   "display_name": "ds_venv_312",
   "language": "python",
   "name": "python3"
  },
  "language_info": {
   "codemirror_mode": {
    "name": "ipython",
    "version": 3
   },
   "file_extension": ".py",
   "mimetype": "text/x-python",
   "name": "python",
   "nbconvert_exporter": "python",
   "pygments_lexer": "ipython3",
   "version": "3.12.4"
  }
 },
 "nbformat": 4,
 "nbformat_minor": 5
}
